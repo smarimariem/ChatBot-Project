{
 "cells": [
  {
   "cell_type": "code",
   "execution_count": 2,
   "metadata": {},
   "outputs": [
    {
     "name": "stdout",
     "output_type": "stream",
     "text": [
      " Le volume dans le lecteur C n’a pas de nom.\n",
      " Le numéro de série du volume est 3EA4-D593\n",
      "\n",
      " Répertoire de C:\\Users\\Asus\\chatterbot-corpus\n",
      "\n",
      "01/09/2020  16:24    <DIR>          .\n",
      "01/09/2020  16:24    <DIR>          ..\n",
      "27/08/2020  18:33                84 .gitignore\n",
      "01/09/2020  16:24    <DIR>          .ipynb_checkpoints\n",
      "27/08/2020  18:33               364 .travis.yml\n",
      "01/09/2020  16:23            24 323 ChatBot_Main.ipynb\n",
      "01/09/2020  16:20    <DIR>          chatterbot_corpus\n",
      "01/09/2020  16:20           438 272 db.sqlite3\n",
      "01/09/2020  16:21            32 768 db.sqlite3-shm\n",
      "01/09/2020  16:21             8 272 db.sqlite3-wal\n",
      "01/09/2020  15:54               111 dev-requirements.txt\n",
      "27/08/2020  18:33    <DIR>          docs\n",
      "27/08/2020  18:33             1 488 license.md\n",
      "27/08/2020  18:33               243 MANIFEST.in\n",
      "27/08/2020  18:33               721 package.json\n",
      "27/08/2020  18:33             2 954 readme.md\n",
      "27/08/2020  18:33               176 setup.cfg\n",
      "27/08/2020  18:33             1 704 setup.py\n",
      "27/08/2020  18:33    <DIR>          tests\n",
      "              13 fichier(s)          511 480 octets\n",
      "               6 Rép(s)  590 388 097 024 octets libres\n"
     ]
    }
   ],
   "source": [
    "ls"
   ]
  },
  {
   "cell_type": "code",
   "execution_count": 3,
   "metadata": {},
   "outputs": [
    {
     "name": "stderr",
     "output_type": "stream",
     "text": [
      "Python 3.6.9 :: Anaconda, Inc.\n"
     ]
    }
   ],
   "source": [
    "!python --version"
   ]
  },
  {
   "cell_type": "code",
   "execution_count": 4,
   "metadata": {},
   "outputs": [
    {
     "name": "stdout",
     "output_type": "stream",
     "text": [
      "Requirement already satisfied: chatterbot<1.1,>=1.0 in c:\\users\\asus\\anaconda3\\lib\\site-packages (from -r dev-requirements.txt (line 1)) (1.0.8)\n",
      "Requirement already satisfied: nose in c:\\users\\asus\\anaconda3\\lib\\site-packages (from -r dev-requirements.txt (line 2)) (1.3.7)\n",
      "Requirement already satisfied: pip in c:\\users\\asus\\anaconda3\\lib\\site-packages (from -r dev-requirements.txt (line 3)) (20.0.2)\n",
      "Requirement already satisfied: twine in c:\\users\\asus\\anaconda3\\lib\\site-packages (from -r dev-requirements.txt (line 4)) (3.2.0)\n",
      "Requirement already satisfied: flake8 in c:\\users\\asus\\anaconda3\\lib\\site-packages (from -r dev-requirements.txt (line 5)) (3.8.3)\n",
      "Requirement already satisfied: sphinx<1.9,>=1.8 in c:\\users\\asus\\anaconda3\\lib\\site-packages (from -r dev-requirements.txt (line 6)) (1.8.5)\n",
      "Requirement already satisfied: sphinx_rtd_theme in c:\\users\\asus\\anaconda3\\lib\\site-packages (from -r dev-requirements.txt (line 7)) (0.5.0)\n",
      "Requirement already satisfied: enum34 in c:\\users\\asus\\anaconda3\\lib\\site-packages (from -r dev-requirements.txt (line 8)) (1.1.10)\n",
      "Requirement already satisfied: spacy in c:\\users\\asus\\anaconda3\\lib\\site-packages (from -r dev-requirements.txt (line 9)) (2.1.8)\n",
      "Requirement already satisfied: selenium in c:\\users\\asus\\anaconda3\\lib\\site-packages (from -r dev-requirements.txt (line 10)) (3.141.0)\n",
      "Requirement already satisfied: googletrans in c:\\users\\asus\\anaconda3\\lib\\site-packages (from -r dev-requirements.txt (line 11)) (3.0.0)\n",
      "Requirement already satisfied: sqlalchemy<1.4,>=1.3 in c:\\users\\asus\\anaconda3\\lib\\site-packages (from chatterbot<1.1,>=1.0->-r dev-requirements.txt (line 1)) (1.3.13)\n",
      "Requirement already satisfied: mathparse<0.2,>=0.1 in c:\\users\\asus\\anaconda3\\lib\\site-packages (from chatterbot<1.1,>=1.0->-r dev-requirements.txt (line 1)) (0.1.2)\n",
      "Requirement already satisfied: python-dateutil<2.9,>=2.8 in c:\\users\\asus\\anaconda3\\lib\\site-packages (from chatterbot<1.1,>=1.0->-r dev-requirements.txt (line 1)) (2.8.1)\n",
      "Requirement already satisfied: pytz in c:\\users\\asus\\anaconda3\\lib\\site-packages (from chatterbot<1.1,>=1.0->-r dev-requirements.txt (line 1)) (2019.1)\n",
      "Requirement already satisfied: readme-renderer>=21.0 in c:\\users\\asus\\anaconda3\\lib\\site-packages (from twine->-r dev-requirements.txt (line 4)) (26.0)\n",
      "Requirement already satisfied: requests-toolbelt!=0.9.0,>=0.8.0 in c:\\users\\asus\\anaconda3\\lib\\site-packages (from twine->-r dev-requirements.txt (line 4)) (0.9.1)\n",
      "Requirement already satisfied: importlib-metadata; python_version < \"3.8\" in c:\\users\\asus\\anaconda3\\lib\\site-packages (from twine->-r dev-requirements.txt (line 4)) (1.4.0)\n",
      "Requirement already satisfied: pkginfo>=1.4.2 in c:\\users\\asus\\anaconda3\\lib\\site-packages (from twine->-r dev-requirements.txt (line 4)) (1.5.0.1)\n",
      "Requirement already satisfied: tqdm>=4.14 in c:\\users\\asus\\anaconda3\\lib\\site-packages (from twine->-r dev-requirements.txt (line 4)) (4.31.1)\n",
      "Requirement already satisfied: keyring>=15.1 in c:\\users\\asus\\anaconda3\\lib\\site-packages (from twine->-r dev-requirements.txt (line 4)) (21.1.0)\n",
      "Requirement already satisfied: setuptools>=0.7.0 in c:\\users\\asus\\anaconda3\\lib\\site-packages (from twine->-r dev-requirements.txt (line 4)) (45.1.0.post20200127)\n",
      "Requirement already satisfied: requests>=2.20 in c:\\users\\asus\\anaconda3\\lib\\site-packages (from twine->-r dev-requirements.txt (line 4)) (2.24.0)\n",
      "Requirement already satisfied: colorama>=0.4.3 in c:\\users\\asus\\anaconda3\\lib\\site-packages (from twine->-r dev-requirements.txt (line 4)) (0.4.3)\n",
      "Requirement already satisfied: rfc3986>=1.4.0 in c:\\users\\asus\\anaconda3\\lib\\site-packages (from twine->-r dev-requirements.txt (line 4)) (1.4.0)\n",
      "Requirement already satisfied: mccabe<0.7.0,>=0.6.0 in c:\\users\\asus\\anaconda3\\lib\\site-packages (from flake8->-r dev-requirements.txt (line 5)) (0.6.1)\n",
      "Requirement already satisfied: pycodestyle<2.7.0,>=2.6.0a1 in c:\\users\\asus\\anaconda3\\lib\\site-packages (from flake8->-r dev-requirements.txt (line 5)) (2.6.0)\n",
      "Requirement already satisfied: pyflakes<2.3.0,>=2.2.0 in c:\\users\\asus\\anaconda3\\lib\\site-packages (from flake8->-r dev-requirements.txt (line 5)) (2.2.0)\n",
      "Requirement already satisfied: Pygments>=2.0 in c:\\users\\asus\\anaconda3\\lib\\site-packages (from sphinx<1.9,>=1.8->-r dev-requirements.txt (line 6)) (2.4.2)\n",
      "Requirement already satisfied: six>=1.5 in c:\\users\\asus\\anaconda3\\lib\\site-packages (from sphinx<1.9,>=1.8->-r dev-requirements.txt (line 6)) (1.14.0)\n",
      "Requirement already satisfied: imagesize in c:\\users\\asus\\anaconda3\\lib\\site-packages (from sphinx<1.9,>=1.8->-r dev-requirements.txt (line 6)) (1.2.0)\n",
      "Requirement already satisfied: docutils>=0.11 in c:\\users\\asus\\anaconda3\\lib\\site-packages (from sphinx<1.9,>=1.8->-r dev-requirements.txt (line 6)) (0.15.2)\n",
      "Requirement already satisfied: alabaster<0.8,>=0.7 in c:\\users\\asus\\anaconda3\\lib\\site-packages (from sphinx<1.9,>=1.8->-r dev-requirements.txt (line 6)) (0.7.12)\n",
      "Requirement already satisfied: packaging in c:\\users\\asus\\anaconda3\\lib\\site-packages (from sphinx<1.9,>=1.8->-r dev-requirements.txt (line 6)) (20.1)\n",
      "Requirement already satisfied: sphinxcontrib-websupport in c:\\users\\asus\\anaconda3\\lib\\site-packages (from sphinx<1.9,>=1.8->-r dev-requirements.txt (line 6)) (1.1.2)\n",
      "Requirement already satisfied: babel!=2.0,>=1.3 in c:\\users\\asus\\anaconda3\\lib\\site-packages (from sphinx<1.9,>=1.8->-r dev-requirements.txt (line 6)) (2.7.0)\n",
      "Requirement already satisfied: Jinja2>=2.3 in c:\\users\\asus\\anaconda3\\lib\\site-packages (from sphinx<1.9,>=1.8->-r dev-requirements.txt (line 6)) (2.10.3)\n",
      "Requirement already satisfied: snowballstemmer>=1.1 in c:\\users\\asus\\anaconda3\\lib\\site-packages (from sphinx<1.9,>=1.8->-r dev-requirements.txt (line 6)) (1.9.0)\n",
      "Requirement already satisfied: plac<1.0.0,>=0.9.6 in c:\\users\\asus\\anaconda3\\lib\\site-packages (from spacy->-r dev-requirements.txt (line 9)) (0.9.6)\n",
      "Requirement already satisfied: thinc<7.1.0,>=7.0.8 in c:\\users\\asus\\anaconda3\\lib\\site-packages (from spacy->-r dev-requirements.txt (line 9)) (7.0.8)\n",
      "Requirement already satisfied: murmurhash<1.1.0,>=0.28.0 in c:\\users\\asus\\anaconda3\\lib\\site-packages (from spacy->-r dev-requirements.txt (line 9)) (1.0.2)\n",
      "Requirement already satisfied: preshed<2.1.0,>=2.0.1 in c:\\users\\asus\\anaconda3\\lib\\site-packages (from spacy->-r dev-requirements.txt (line 9)) (2.0.1)\n",
      "Requirement already satisfied: wasabi<1.1.0,>=0.2.0 in c:\\users\\asus\\anaconda3\\lib\\site-packages (from spacy->-r dev-requirements.txt (line 9)) (0.2.2)\n",
      "Requirement already satisfied: numpy>=1.15.0 in c:\\users\\asus\\anaconda3\\lib\\site-packages (from spacy->-r dev-requirements.txt (line 9)) (1.18.1)\n",
      "Requirement already satisfied: srsly<1.1.0,>=0.0.6 in c:\\users\\asus\\anaconda3\\lib\\site-packages (from spacy->-r dev-requirements.txt (line 9)) (0.1.0)\n",
      "Requirement already satisfied: cymem<2.1.0,>=2.0.2 in c:\\users\\asus\\anaconda3\\lib\\site-packages (from spacy->-r dev-requirements.txt (line 9)) (2.0.2)\n",
      "Requirement already satisfied: blis<0.3.0,>=0.2.2 in c:\\users\\asus\\anaconda3\\lib\\site-packages (from spacy->-r dev-requirements.txt (line 9)) (0.2.4)\n",
      "Requirement already satisfied: urllib3 in c:\\users\\asus\\anaconda3\\lib\\site-packages (from selenium->-r dev-requirements.txt (line 10)) (1.24.3)\n",
      "Requirement already satisfied: httpx==0.13.3 in c:\\users\\asus\\anaconda3\\lib\\site-packages (from googletrans->-r dev-requirements.txt (line 11)) (0.13.3)\n",
      "Requirement already satisfied: bleach>=2.1.0 in c:\\users\\asus\\anaconda3\\lib\\site-packages (from readme-renderer>=21.0->twine->-r dev-requirements.txt (line 4)) (3.1.0)\n",
      "Requirement already satisfied: zipp>=0.5 in c:\\users\\asus\\anaconda3\\lib\\site-packages (from importlib-metadata; python_version < \"3.8\"->twine->-r dev-requirements.txt (line 4)) (0.5.1)\n",
      "Requirement already satisfied: pywin32-ctypes!=0.1.0,!=0.1.1; sys_platform == \"win32\" in c:\\users\\asus\\anaconda3\\lib\\site-packages (from keyring>=15.1->twine->-r dev-requirements.txt (line 4)) (0.2.0)\n",
      "Requirement already satisfied: chardet<4,>=3.0.2 in c:\\users\\asus\\anaconda3\\lib\\site-packages (from requests>=2.20->twine->-r dev-requirements.txt (line 4)) (3.0.4)\n",
      "Requirement already satisfied: certifi>=2017.4.17 in c:\\users\\asus\\anaconda3\\lib\\site-packages (from requests>=2.20->twine->-r dev-requirements.txt (line 4)) (2020.6.20)\n",
      "Requirement already satisfied: idna<3,>=2.5 in c:\\users\\asus\\anaconda3\\lib\\site-packages (from requests>=2.20->twine->-r dev-requirements.txt (line 4)) (2.8)\n",
      "Requirement already satisfied: pyparsing>=2.0.2 in c:\\users\\asus\\anaconda3\\lib\\site-packages (from packaging->sphinx<1.9,>=1.8->-r dev-requirements.txt (line 6)) (2.4.0)\n",
      "Requirement already satisfied: MarkupSafe>=0.23 in c:\\users\\asus\\anaconda3\\lib\\site-packages (from Jinja2>=2.3->sphinx<1.9,>=1.8->-r dev-requirements.txt (line 6)) (1.1.1)\n",
      "Requirement already satisfied: hstspreload in c:\\users\\asus\\anaconda3\\lib\\site-packages (from httpx==0.13.3->googletrans->-r dev-requirements.txt (line 11)) (2020.8.18)\n",
      "Requirement already satisfied: sniffio in c:\\users\\asus\\anaconda3\\lib\\site-packages (from httpx==0.13.3->googletrans->-r dev-requirements.txt (line 11)) (1.1.0)\n",
      "Requirement already satisfied: httpcore==0.9.* in c:\\users\\asus\\anaconda3\\lib\\site-packages (from httpx==0.13.3->googletrans->-r dev-requirements.txt (line 11)) (0.9.1)\n",
      "Requirement already satisfied: webencodings in c:\\users\\asus\\anaconda3\\lib\\site-packages (from bleach>=2.1.0->readme-renderer>=21.0->twine->-r dev-requirements.txt (line 4)) (0.5.1)\n",
      "Requirement already satisfied: contextvars>=2.1; python_version < \"3.7\" in c:\\users\\asus\\anaconda3\\lib\\site-packages (from sniffio->httpx==0.13.3->googletrans->-r dev-requirements.txt (line 11)) (2.4)\n",
      "Requirement already satisfied: h2==3.* in c:\\users\\asus\\anaconda3\\lib\\site-packages (from httpcore==0.9.*->httpx==0.13.3->googletrans->-r dev-requirements.txt (line 11)) (3.2.0)\n",
      "Requirement already satisfied: h11<0.10,>=0.8 in c:\\users\\asus\\anaconda3\\lib\\site-packages (from httpcore==0.9.*->httpx==0.13.3->googletrans->-r dev-requirements.txt (line 11)) (0.8.1)\n",
      "Requirement already satisfied: immutables>=0.9 in c:\\users\\asus\\anaconda3\\lib\\site-packages (from contextvars>=2.1; python_version < \"3.7\"->sniffio->httpx==0.13.3->googletrans->-r dev-requirements.txt (line 11)) (0.14)\n",
      "Requirement already satisfied: hyperframe<6,>=5.2.0 in c:\\users\\asus\\anaconda3\\lib\\site-packages (from h2==3.*->httpcore==0.9.*->httpx==0.13.3->googletrans->-r dev-requirements.txt (line 11)) (5.2.0)\n",
      "Requirement already satisfied: hpack<4,>=3.0 in c:\\users\\asus\\anaconda3\\lib\\site-packages (from h2==3.*->httpcore==0.9.*->httpx==0.13.3->googletrans->-r dev-requirements.txt (line 11)) (3.0.0)\n",
      "Note: you may need to restart the kernel to use updated packages.\n"
     ]
    }
   ],
   "source": [
    "pip install -r dev-requirements.txt"
   ]
  },
  {
   "cell_type": "code",
   "execution_count": 7,
   "metadata": {},
   "outputs": [
    {
     "name": "stdout",
     "output_type": "stream",
     "text": [
      "Requirement already satisfied: en_core_web_sm==2.1.0 from https://github.com/explosion/spacy-models/releases/download/en_core_web_sm-2.1.0/en_core_web_sm-2.1.0.tar.gz#egg=en_core_web_sm==2.1.0 in c:\\users\\asus\\anaconda3\\lib\\site-packages (2.1.0)\n",
      "[+] Download and installation successful\n",
      "You can now load the model via spacy.load('en_core_web_sm')\n"
     ]
    }
   ],
   "source": [
    "!python -m spacy download en_core_web_sm"
   ]
  },
  {
   "cell_type": "markdown",
   "metadata": {},
   "source": [
    "in anaconda prompt as an admin run this \"python -m spacy download en\""
   ]
  },
  {
   "cell_type": "code",
   "execution_count": 5,
   "metadata": {},
   "outputs": [
    {
     "data": {
      "text/plain": [
       "<spacy.lang.en.English at 0x1f162fbf5f8>"
      ]
     },
     "execution_count": 5,
     "metadata": {},
     "output_type": "execute_result"
    }
   ],
   "source": [
    "import spacy\n",
    "spacy.load('en_core_web_sm')"
   ]
  },
  {
   "cell_type": "code",
   "execution_count": 6,
   "metadata": {},
   "outputs": [],
   "source": [
    "from chatterbot import ChatBot\n",
    "from chatterbot.trainers import ListTrainer\n",
    "from chatterbot.trainers import ChatterBotCorpusTrainer"
   ]
  },
  {
   "cell_type": "code",
   "execution_count": 7,
   "metadata": {},
   "outputs": [],
   "source": [
    "from selenium import webdriver\n",
    "import time"
   ]
  },
  {
   "cell_type": "code",
   "execution_count": 8,
   "metadata": {},
   "outputs": [],
   "source": [
    "GalaBot = ChatBot(name = 'GalaBot',\n",
    "                  read_only = False,                  \n",
    "                  logic_adapters = [\"chatterbot.logic.BestMatch\"],                 \n",
    "                  storage_adapter = \"chatterbot.storage.SQLStorageAdapter\")"
   ]
  },
  {
   "cell_type": "code",
   "execution_count": 32,
   "metadata": {},
   "outputs": [
    {
     "name": "stdout",
     "output_type": "stream",
     "text": [
      "Training botprofile.yml: [####################] 100%\n",
      "Training conversations.yml: [####################] 100%\n",
      "Training food.yml: [####################] 100%\n",
      "Training galact_fr (1).yml: [####################] 100%\n",
      "Training greetings.yml: [####################] 100%\n",
      "Training trivia.yml: [####################] 100%\n",
      "Training ai.yml: [####################] 100%\n",
      "Training botprofile.yml: [####################] 100%\n",
      "Training computers.yml: [####################] 100%\n",
      "Training conversations.yml: [####################] 100%\n",
      "Training emotion.yml: [####################] 100%\n",
      "Training food.yml: [####################] 100%\n",
      "Training galact_eng (1).yml: [####################] 100%\n",
      "Training gossip.yml: [####################] 100%\n",
      "Training greetings.yml: [####################] 100%\n",
      "Training health.yml: [####################] 100%\n",
      "Training history.yml: [####################] 100%\n",
      "Training humor.yml: [####################] 100%\n",
      "Training literature.yml: [####################] 100%\n",
      "Training money.yml: [####################] 100%\n",
      "Training movies.yml: [####################] 100%\n",
      "Training politics.yml: [####################] 100%\n",
      "Training psychology.yml: [####################] 100%\n",
      "Training science.yml: [####################] 100%\n",
      "Training sports.yml: [####################] 100%\n",
      "Training trivia.yml: [####################] 100%\n",
      "Training Arabe (1).yml: [####################] 100%\n"
     ]
    }
   ],
   "source": [
    "corpus_trainer = ChatterBotCorpusTrainer(GalaBot)\n",
    "corpus_trainer.train(\"chatterbot.corpus.french\")\n",
    "corpus_trainer.train(\"chatterbot.corpus.english\")\n",
    "corpus_trainer.train(\"chatterbot.corpus.arabic\")"
   ]
  },
  {
   "cell_type": "code",
   "execution_count": 24,
   "metadata": {},
   "outputs": [],
   "source": [
    "from googletrans import Translator\n",
    "translator = Translator()"
   ]
  },
  {
   "cell_type": "code",
   "execution_count": 25,
   "metadata": {},
   "outputs": [],
   "source": [
    "def translate(user_input):\n",
    "    \n",
    "    if translator.detect(user_input).lang in ['ar' , 'fr', 'en']:\n",
    "        user_input1=translator.translate(user_input).text\n",
    "        response = GalaBot.get_response(user_input1)\n",
    "        if (response.confidence>0.5):\n",
    "            print(translator.translate(str(response),dest=translator.detect(user_input).lang).text)\n",
    "        else:\n",
    "            print(translator.translate(\"Sorry, I can't help. I will connect you to an agent, please type 'yes' if you agree or 'no' to continue\",dest=translator.detect(user_input).lang).text)\n",
    "            a=input()\n",
    "            if(a==\"yes\"):\n",
    "                #print(\"***********\")\n",
    "                #print(user_input)\n",
    "                driver = webdriver.Chrome(executable_path='chromedriver')\n",
    "                driver.get(\"https://www.facebook.com/messages/t/\")\n",
    "                email_input = driver.find_element_by_id(\"email\")\n",
    "                password_input = driver.find_element_by_id(\"pass\")\n",
    "                login_button = driver.find_element_by_id(\"loginbutton\")\n",
    "    \n",
    "                email=\"*******@outlook.fr\"\n",
    "                password=\"*********\"\n",
    "    \n",
    "                email_input.send_keys(email)\n",
    "                password_input.send_keys(password)\n",
    "                login_button.click()\n",
    "    \n",
    "                # writing in the search area #\n",
    "                time.sleep(10)\n",
    "\n",
    "                contacts = [\"Galactech Studio\"]     \n",
    "                time.sleep(3)\n",
    "                search_input = driver.find_element_by_xpath(\"/html/body/div[1]/div[3]/div[1]/div/div/div/div[1]/div[2]/div[3]/div/div[1]/div/div/div[1]/span[1]/label/input\")\n",
    "                search_input.send_keys(contacts[0])\n",
    "                    # Click on the first account #\n",
    "                time.sleep(3)\n",
    "                first_account = driver.find_element_by_xpath(\"/html/body/div[1]/div[3]/div[1]/div/div/div/div[1]/div[2]/div[3]/div/div[1]/div/div/div[1]/span[1]/div/div/div[2]/ul/li/a/div/div[2]/div/div\")\n",
    "                first_account.click()\n",
    "    # writing a message #\n",
    "                time.sleep(3)\n",
    "                message=user_input\n",
    "                message_text_box = driver.find_element_by_css_selector('.notranslate')\n",
    "                message_text_box.send_keys(message)\n",
    "    # Finally pressing SEND #\n",
    "                time.sleep(1)\n",
    "                send_button = driver.find_element_by_xpath('/html/body/div[1]/div[3]/div[1]/div/div/div/div[2]/span/div[2]/div[2]/div[2]/div[2]/a')\n",
    "                send_button.click()\n",
    "                \n",
    "               \n",
    "            else:\n",
    "                print(translator.translate(\"Hey again you can ask me\",dest=translator.detect(user_input).lang).text)\n",
    "\n",
    "                \n",
    "                \n",
    "    else:\n",
    "        print(\"please write in arabic,english or french \\n veuillez écrire en arabe, anglais ou français \\n  يرجى الكتابة باللغة العربية أو الإنجليزية أو الفرنسية \")\n",
    "   "
   ]
  },
  {
   "cell_type": "code",
   "execution_count": 31,
   "metadata": {
    "scrolled": true
   },
   "outputs": [
    {
     "name": "stdout",
     "output_type": "stream",
     "text": [
      "hi i am GalaBot: If you need my help write me in arabic, english or french. If you want to exit type \"exit\"\n",
      "Salut, je suis GalaBot: Si vous avez besoin de mon aide, écrivez-moi en arabe, anglais ou français. Si vous voulez quitter, tapez \" quitter \"\n",
      "\"مرحبا إذا كنت بحاجة إلى مساعدتي اكتب لي باللغة العربية أو الإنجليزية أو الفرنسية. إذا كنت تريد الخروج اكتب \"خروج\n",
      "bonjour\n",
      "salut\n",
      "qui est galactech?\n",
      "galactech est une start-up d'agrégation de contenu offrant un divertissement de qualité sur votre téléphone où que vous soyez.\n",
      "can i be part of galactech?\n",
      "yes of course!you can join us as an intern or you could apply for a job position when it is open and you can also join our community in order to be alert of opportunities that we offer.\n",
      "exit\n"
     ]
    }
   ],
   "source": [
    "print(\"hi i am GalaBot: If you need my help write me in arabic, english or french. If you want to exit type \\\"exit\\\"\")\n",
    "print(\"Salut, je suis GalaBot: Si vous avez besoin de mon aide, écrivez-moi en arabe, anglais ou français. Si vous voulez quitter, tapez \\\" quitter \\\"\")\n",
    "print('\"مرحبا إذا كنت بحاجة إلى مساعدتي اكتب لي باللغة العربية أو الإنجليزية أو الفرنسية. إذا كنت تريد الخروج اكتب \"خروج')\n",
    "   \n",
    "while (True):\n",
    "    user_input = input()\n",
    "    \n",
    "    if (user_input in ['quitter','exit','خروج']):\n",
    "        break\n",
    "   \n",
    "    translate(user_input)\n"
   ]
  },
  {
   "cell_type": "code",
   "execution_count": null,
   "metadata": {},
   "outputs": [],
   "source": []
  }
 ],
 "metadata": {
  "kernelspec": {
   "display_name": "Python 3",
   "language": "python",
   "name": "python3"
  },
  "language_info": {
   "codemirror_mode": {
    "name": "ipython",
    "version": 3
   },
   "file_extension": ".py",
   "mimetype": "text/x-python",
   "name": "python",
   "nbconvert_exporter": "python",
   "pygments_lexer": "ipython3",
   "version": "3.6.9"
  }
 },
 "nbformat": 4,
 "nbformat_minor": 4
}
